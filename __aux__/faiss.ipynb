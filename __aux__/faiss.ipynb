{
 "cells": [
  {
   "cell_type": "code",
   "execution_count": 1,
   "metadata": {},
   "outputs": [],
   "source": [
    "import faiss\n",
    "import numpy as np\n",
    "import json"
   ]
  },
  {
   "cell_type": "code",
   "execution_count": 985,
   "metadata": {},
   "outputs": [],
   "source": [
    "def CargarLabels(path):\n",
    "    with open(path, \"r\") as file:\n",
    "        dict_labels = json.load(file)\n",
    "    return dict_labels\n",
    "\n",
    "def GuardarLabels(path, dict_labels):\n",
    "    with open(path, \"w\") as file:\n",
    "        json.dump(dict_labels, file)"
   ]
  },
  {
   "cell_type": "code",
   "execution_count": 986,
   "metadata": {},
   "outputs": [],
   "source": [
    "n = 1000"
   ]
  },
  {
   "cell_type": "code",
   "execution_count": 987,
   "metadata": {},
   "outputs": [],
   "source": [
    "dimension = 1024"
   ]
  },
  {
   "cell_type": "code",
   "execution_count": 988,
   "metadata": {},
   "outputs": [],
   "source": [
    "labels = [1]*1000"
   ]
  },
  {
   "cell_type": "code",
   "execution_count": 989,
   "metadata": {},
   "outputs": [],
   "source": [
    "data = np.random.random((n, dimension)).astype('float32')"
   ]
  },
  {
   "cell_type": "code",
   "execution_count": 990,
   "metadata": {},
   "outputs": [],
   "source": [
    "index = faiss.IndexFlatIP(dimension) #Crear Index\n",
    "index.add(data) #Cargar index\n",
    "\n",
    "faiss.write_index(index, \"prueba.faiss\") #Guardar Index\n",
    "n_index = faiss.read_index(\"prueba.faiss\") #Leer Index"
   ]
  },
  {
   "cell_type": "code",
   "execution_count": 991,
   "metadata": {},
   "outputs": [],
   "source": [
    "dict_labels = CargarLabels('labels.json')"
   ]
  },
  {
   "cell_type": "code",
   "execution_count": 7,
   "metadata": {},
   "outputs": [],
   "source": [
    "dimension = 1024\n",
    "data1 = np.random.random((1000, dimension)).astype('float32')\n",
    "data2 = np.random.random((1000, dimension)).astype('float32')\n",
    "\n",
    "labels1 = [1]*1000\n",
    "labels2 = [2]*1000\n",
    "\n",
    "index = faiss.IndexFlatIP(1024)\n",
    "idx_index = faiss.IndexIDMap(index)\n",
    "\n",
    "faiss.normalize_L2(data1)\n",
    "faiss.normalize_L2(data2)\n",
    "\n",
    "idx_index.add_with_ids(data1, labels1)\n",
    "idx_index.add_with_ids(data2, labels2)"
   ]
  },
  {
   "cell_type": "code",
   "execution_count": 8,
   "metadata": {},
   "outputs": [
    {
     "data": {
      "text/plain": [
       "(1000, 1024)"
      ]
     },
     "execution_count": 8,
     "metadata": {},
     "output_type": "execute_result"
    }
   ],
   "source": [
    "data1.shape"
   ]
  },
  {
   "cell_type": "code",
   "execution_count": 993,
   "metadata": {},
   "outputs": [],
   "source": [
    "faiss.write_index(idx_index, \"idx_index.faiss\")"
   ]
  },
  {
   "cell_type": "code",
   "execution_count": 6,
   "metadata": {},
   "outputs": [
    {
     "ename": "NameError",
     "evalue": "name 'dimension' is not defined",
     "output_type": "error",
     "traceback": [
      "\u001b[1;31m---------------------------------------------------------------------------\u001b[0m",
      "\u001b[1;31mNameError\u001b[0m                                 Traceback (most recent call last)",
      "Cell \u001b[1;32mIn[6], line 1\u001b[0m\n\u001b[1;32m----> 1\u001b[0m data3 \u001b[38;5;241m=\u001b[39m np\u001b[38;5;241m.\u001b[39mrandom\u001b[38;5;241m.\u001b[39mrandom((\u001b[38;5;241m1000\u001b[39m, \u001b[43mdimension\u001b[49m))\u001b[38;5;241m.\u001b[39mastype(\u001b[38;5;124m'\u001b[39m\u001b[38;5;124mfloat32\u001b[39m\u001b[38;5;124m'\u001b[39m)\n\u001b[0;32m      3\u001b[0m labels3 \u001b[38;5;241m=\u001b[39m [\u001b[38;5;241m3\u001b[39m]\u001b[38;5;241m*\u001b[39m\u001b[38;5;241m1000\u001b[39m\n\u001b[0;32m      5\u001b[0m faiss\u001b[38;5;241m.\u001b[39mnormalize_L2(data3)\n",
      "\u001b[1;31mNameError\u001b[0m: name 'dimension' is not defined"
     ]
    }
   ],
   "source": [
    "data3 = np.random.random((1000, dimension)).astype('float32')\n",
    "\n",
    "labels3 = [3]*1000\n",
    "\n",
    "faiss.normalize_L2(data3)"
   ]
  },
  {
   "cell_type": "code",
   "execution_count": null,
   "metadata": {},
   "outputs": [],
   "source": []
  },
  {
   "cell_type": "code",
   "execution_count": 995,
   "metadata": {},
   "outputs": [],
   "source": [
    "data4 = np.array([[1]*1024], dtype = 'float32')\n",
    "\n",
    "labels4 = [4]\n",
    "\n",
    "faiss.normalize_L2(data4)"
   ]
  },
  {
   "cell_type": "code",
   "execution_count": 2,
   "metadata": {},
   "outputs": [],
   "source": [
    "idx_index = faiss.read_index('idx_index.faiss')"
   ]
  },
  {
   "cell_type": "code",
   "execution_count": 997,
   "metadata": {},
   "outputs": [],
   "source": [
    "idx_index.add_with_ids(data3, labels3)"
   ]
  },
  {
   "cell_type": "code",
   "execution_count": 998,
   "metadata": {},
   "outputs": [],
   "source": [
    "idx_index.add_with_ids(data4, labels4)"
   ]
  },
  {
   "cell_type": "code",
   "execution_count": null,
   "metadata": {},
   "outputs": [],
   "source": [
    "query = np.array([[1]*1024], dtype = 'float32')\n",
    "faiss.normalize_L2(query)\n",
    "resultado, label = idx_index.search(query, 5)\n",
    "resultado"
   ]
  },
  {
   "cell_type": "code",
   "execution_count": null,
   "metadata": {},
   "outputs": [],
   "source": []
  }
 ],
 "metadata": {
  "kernelspec": {
   "display_name": "Prueba",
   "language": "python",
   "name": "python3"
  },
  "language_info": {
   "codemirror_mode": {
    "name": "ipython",
    "version": 3
   },
   "file_extension": ".py",
   "mimetype": "text/x-python",
   "name": "python",
   "nbconvert_exporter": "python",
   "pygments_lexer": "ipython3",
   "version": "3.10.15"
  }
 },
 "nbformat": 4,
 "nbformat_minor": 2
}
