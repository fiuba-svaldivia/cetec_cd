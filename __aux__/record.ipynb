{
 "cells": [
  {
   "cell_type": "code",
   "execution_count": null,
   "metadata": {},
   "outputs": [],
   "source": [
    "\n",
    "import os"
   ]
  },
  {
   "cell_type": "code",
   "execution_count": 3,
   "metadata": {},
   "outputs": [],
   "source": [
    "device = 2\n",
    "hz = 44100\n",
    "tiempo = 2"
   ]
  },
  {
   "cell_type": "code",
   "execution_count": 4,
   "metadata": {},
   "outputs": [],
   "source": [
    "def GenerarAudio(hz, tiempo, i):\n",
    "    print(f\"\\nGrabando: {i}\")\n",
    "    audio = sd.rec(int(tiempo * hz), samplerate= hz, dtype='int16', channels=1)\n",
    "    sd.wait()\n",
    "    filename = f\"./demo{i}\"\n",
    "    \n",
    "    #Hilo de guardado\n",
    "    thread_guardado = threading.Thread(target = GuardarAudio, args = (filename , 1, hz, audio))\n",
    "    thread_guardado.start()\n",
    "    \n",
    "def GuardarAudio(filename, channels, hz, audio):\n",
    "    print(f\"Guardando: {filename}\")\n",
    "    with wave.open(f\"{filename}.wav\", 'wb') as wf:\n",
    "        wf.setnchannels(channels)\n",
    "        wf.setsampwidth(2) \n",
    "        wf.setframerate(hz) \n",
    "        wf.writeframes(audio.tobytes()) \n",
    "    \n",
    "    #Hilo de compresión\n",
    "    # thread_compresion = threading.Thread(target= ComprimirAudioFLAC, args = (filename,))\n",
    "    # thread_compresion.start()\n",
    "    \n",
    "def ComprimirAudioFLAC(filename):\n",
    "    data, samplerate = sf.read(f\"{filename}.wav\")\n",
    "    sf.write(f\"{filename}.flac\", data, samplerate, format='FLAC')\n",
    "    print(f\"Comprimido en: {filename}.flac\")\n",
    "    \n",
    "    \n",
    "    thread_eliminar = threading.Thread(target= EliminarWAV, args = (filename,))\n",
    "    thread_eliminar.start()\n",
    "     \n",
    "def EliminarWAV(filename):\n",
    "    path_wav = f\"{filename}.wav\"\n",
    "    if os.path.exists(path_wav):\n",
    "        os.remove(path_wav)\n",
    "        print(f\"Eliminando: {path_wav}\")\n",
    "    "
   ]
  },
  {
   "cell_type": "code",
   "execution_count": 5,
   "metadata": {},
   "outputs": [
    {
     "name": "stdout",
     "output_type": "stream",
     "text": [
      "\n",
      "Grabando: 0\n",
      "Guardando: ./demo0\n",
      "\n",
      "Grabando: 1\n",
      "Guardando: ./demo1\n",
      "\n",
      "Grabando: 2\n",
      "Guardando: ./demo2\n",
      "\n",
      "Grabando: 3\n",
      "Guardando: ./demo3\n",
      "\n",
      "Grabando: 4\n",
      "Guardando: ./demo4\n",
      "\n",
      "Grabando: 5\n",
      "Guardando: ./demo5\n",
      "\n",
      "Grabando: 6\n",
      "Guardando: ./demo6\n",
      "\n",
      "Grabando: 7\n",
      "Guardando: ./demo7\n",
      "\n",
      "Grabando: 8\n",
      "Guardando: ./demo8\n",
      "\n",
      "Grabando: 9\n",
      "Guardando: ./demo9\n",
      "\n",
      "Grabando: 10\n",
      "Guardando: ./demo10\n",
      "\n",
      "Grabando: 11\n",
      "Guardando: ./demo11\n",
      "\n",
      "Grabando: 12\n",
      "Guardando: ./demo12\n",
      "\n",
      "Grabando: 13\n",
      "Guardando: ./demo13\n",
      "\n",
      "Grabando: 14\n",
      "Guardando: ./demo14\n",
      "\n",
      "Grabando: 15\n",
      "Guardando: ./demo15\n",
      "\n",
      "Grabando: 16\n",
      "Guardando: ./demo16\n",
      "\n",
      "Grabando: 17\n",
      "Guardando: ./demo17\n",
      "\n",
      "Grabando: 18\n",
      "Guardando: ./demo18\n",
      "\n",
      "Grabando: 19\n",
      "Guardando: ./demo19\n"
     ]
    }
   ],
   "source": [
    "for i in range(20):\n",
    "    os.system('cls')\n",
    "    GenerarAudio(hz,tiempo, i)"
   ]
  }
 ],
 "metadata": {
  "kernelspec": {
   "display_name": "Python 3",
   "language": "python",
   "name": "python3"
  },
  "language_info": {
   "codemirror_mode": {
    "name": "ipython",
    "version": 3
   },
   "file_extension": ".py",
   "mimetype": "text/x-python",
   "name": "python",
   "nbconvert_exporter": "python",
   "pygments_lexer": "ipython3",
   "version": "3.12.7"
  }
 },
 "nbformat": 4,
 "nbformat_minor": 2
}
